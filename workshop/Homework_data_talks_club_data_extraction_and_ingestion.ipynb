{
  "cells": [
    {
      "cell_type": "markdown",
      "metadata": {
        "id": "mrTFv5nPClXh"
      },
      "source": [
        "# **Homework**: Data talks club data engineering zoomcamp Data loading workshop\n",
        "\n",
        "Hello folks, let's practice what we learned - Loading data with the best practices of data engineering.\n",
        "\n",
        "Here are the exercises we will do\n",
        "\n",
        "\n"
      ]
    },
    {
      "cell_type": "markdown",
      "metadata": {
        "id": "wLF4iXf-NR7t"
      },
      "source": [
        "# 1. Use a generator\n",
        "\n",
        "Remember the concept of generator? Let's practice using them to futher our understanding of how they work.\n",
        "\n",
        "Let's define a generator and then run it as practice.\n",
        "\n",
        "**Answer the following questions:**\n",
        "\n",
        "- **Question 1: What is the sum of the outputs of the generator for limit = 5?**\n",
        "- **Question 2: What is the 13th number yielded**\n",
        "\n",
        "I suggest practicing these questions without GPT as the purpose is to further your learning."
      ]
    },
    {
      "cell_type": "code",
      "execution_count": 1,
      "metadata": {
        "colab": {
          "base_uri": "https://localhost:8080/"
        },
        "id": "wLng-bDJN4jf",
        "outputId": "547683cb-5f56-4815-a903-d0d9578eb1f9"
      },
      "outputs": [
        {
          "name": "stdout",
          "output_type": "stream",
          "text": [
            "1.0\n",
            "1.4142135623730951\n",
            "1.7320508075688772\n",
            "2.0\n",
            "2.23606797749979\n",
            "Total sum - 8.382332347441762\n"
          ]
        }
      ],
      "source": [
        "def square_root_generator(limit):\n",
        "    n = 1\n",
        "    while n <= limit:\n",
        "        yield n ** 0.5\n",
        "        n += 1\n",
        "\n",
        "# Example usage:\n",
        "limit = 5\n",
        "generator = square_root_generator(limit)\n",
        "total_sum = 0\n",
        "for sqrt_value in generator:\n",
        "    print(sqrt_value)\n",
        "    total_sum = sqrt_value + total_sum\n",
        "\n",
        "print(f'Total sum - {total_sum}')\n"
      ]
    },
    {
      "cell_type": "code",
      "execution_count": 2,
      "metadata": {},
      "outputs": [
        {
          "name": "stdout",
          "output_type": "stream",
          "text": [
            "1.0\n",
            "1.4142135623730951\n",
            "1.7320508075688772\n",
            "2.0\n",
            "2.23606797749979\n",
            "2.449489742783178\n",
            "2.6457513110645907\n",
            "2.8284271247461903\n",
            "3.0\n",
            "3.1622776601683795\n",
            "3.3166247903554\n",
            "3.4641016151377544\n",
            "3.605551275463989\n"
          ]
        }
      ],
      "source": [
        "def square_root_generator(limit):\n",
        "    n = 1\n",
        "    while n <= limit:\n",
        "        yield n ** 0.5\n",
        "        n += 1\n",
        "\n",
        "# Example usage:\n",
        "limit = 13\n",
        "generator = square_root_generator(limit)\n",
        "total_sum = 0\n",
        "for sqrt_value in generator:\n",
        "    print(sqrt_value)"
      ]
    },
    {
      "cell_type": "markdown",
      "metadata": {
        "id": "xbe3q55zN43j"
      },
      "source": []
    },
    {
      "cell_type": "markdown",
      "metadata": {
        "id": "vjWhILzGJMpK"
      },
      "source": [
        "# 2. Append a generator to a table with existing data\n",
        "\n",
        "\n",
        "Below you have 2 generators. You will be tasked to load them to duckdb and answer some questions from the data\n",
        "\n",
        "1. Load the first generator and calculate the sum of ages of all people. Make sure to only load it once.\n",
        "2. Append the second generator to the same table as the first.\n",
        "3. **After correctly appending the data, calculate the sum of all ages of people.**\n",
        "\n",
        "\n"
      ]
    },
    {
      "cell_type": "code",
      "execution_count": 4,
      "metadata": {
        "colab": {
          "base_uri": "https://localhost:8080/"
        },
        "id": "2MoaQcdLBEk6",
        "outputId": "d2b93dc1-d83f-44ea-aeff-fdf51d75f7aa"
      },
      "outputs": [
        {
          "name": "stdout",
          "output_type": "stream",
          "text": [
            "{'ID': 1, 'Name': 'Person_1', 'Age': 26, 'City': 'City_A'}\n",
            "{'ID': 2, 'Name': 'Person_2', 'Age': 27, 'City': 'City_A'}\n",
            "{'ID': 3, 'Name': 'Person_3', 'Age': 28, 'City': 'City_A'}\n",
            "{'ID': 4, 'Name': 'Person_4', 'Age': 29, 'City': 'City_A'}\n",
            "{'ID': 5, 'Name': 'Person_5', 'Age': 30, 'City': 'City_A'}\n",
            "{'ID': 3, 'Name': 'Person_3', 'Age': 33, 'City': 'City_B', 'Occupation': 'Job_3'}\n",
            "{'ID': 4, 'Name': 'Person_4', 'Age': 34, 'City': 'City_B', 'Occupation': 'Job_4'}\n",
            "{'ID': 5, 'Name': 'Person_5', 'Age': 35, 'City': 'City_B', 'Occupation': 'Job_5'}\n",
            "{'ID': 6, 'Name': 'Person_6', 'Age': 36, 'City': 'City_B', 'Occupation': 'Job_6'}\n",
            "{'ID': 7, 'Name': 'Person_7', 'Age': 37, 'City': 'City_B', 'Occupation': 'Job_7'}\n",
            "{'ID': 8, 'Name': 'Person_8', 'Age': 38, 'City': 'City_B', 'Occupation': 'Job_8'}\n"
          ]
        }
      ],
      "source": [
        "def people_1():\n",
        "    for i in range(1, 6):\n",
        "        yield {\"ID\": i, \"Name\": f\"Person_{i}\", \"Age\": 25 + i, \"City\": \"City_A\"}\n",
        "\n",
        "for person in people_1():\n",
        "    print(person)\n",
        "\n",
        "\n",
        "def people_2():\n",
        "    for i in range(3, 9):\n",
        "        yield {\"ID\": i, \"Name\": f\"Person_{i}\", \"Age\": 30 + i, \"City\": \"City_B\", \"Occupation\": f\"Job_{i}\"}\n",
        "\n",
        "\n",
        "for person in people_2():\n",
        "    print(person)\n",
        "\n",
        "\n",
        "\n"
      ]
    },
    {
      "cell_type": "code",
      "execution_count": 5,
      "metadata": {},
      "outputs": [
        {
          "name": "stdout",
          "output_type": "stream",
          "text": [
            "Pipeline dlt_ipykernel_launcher load step completed in 0.45 seconds\n",
            "1 load package(s) were loaded to destination duckdb and into dataset people\n",
            "The duckdb destination used duckdb:///c:\\Users\\swath\\Downloads\\dlt_ipykernel_launcher.duckdb location to store data\n",
            "Load package 1707356890.698148 is LOADED and contains no failed jobs\n",
            "Pipeline dlt_ipykernel_launcher load step completed in 0.32 seconds\n",
            "1 load package(s) were loaded to destination duckdb and into dataset people\n",
            "The duckdb destination used duckdb:///c:\\Users\\swath\\Downloads\\dlt_ipykernel_launcher.duckdb location to store data\n",
            "Load package 1707356891.6223266 is LOADED and contains no failed jobs\n"
          ]
        }
      ],
      "source": [
        "import dlt\n",
        "\n",
        "# define the connection to load to.\n",
        "# We now use duckdb, but you can switch to Bigquery later\n",
        "generators_pipeline = dlt.pipeline(destination='duckdb', dataset_name='people')\n",
        "\n",
        "\n",
        "# we can load any generator to a table at the pipeline destnation as follows:\n",
        "info = generators_pipeline.run(people_1(),\n",
        "\t\t\t\t\t\t\t\t\t\ttable_name=\"people_one_data\",\n",
        "\t\t\t\t\t\t\t\t\t\twrite_disposition=\"replace\")\n",
        "\n",
        "# the outcome metadata is returned by the load and we can inspect it by printing it.\n",
        "print(info)\n",
        "\n",
        "# we can load the next generator to the same or to a different table.\n",
        "info = generators_pipeline.run(people_2(),\n",
        "\t\t\t\t\t\t\t\t\t\ttable_name=\"people_two_data\",\n",
        "\t\t\t\t\t\t\t\t\t\twrite_disposition=\"replace\")\n",
        "\n",
        "print(info)\n"
      ]
    },
    {
      "cell_type": "code",
      "execution_count": 6,
      "metadata": {},
      "outputs": [
        {
          "name": "stdout",
          "output_type": "stream",
          "text": [
            "Loaded tables: \n"
          ]
        },
        {
          "data": {
            "text/plain": [
              "┌─────────────────────┐\n",
              "│        name         │\n",
              "│       varchar       │\n",
              "├─────────────────────┤\n",
              "│ _dlt_loads          │\n",
              "│ _dlt_pipeline_state │\n",
              "│ _dlt_version        │\n",
              "│ people_one_data     │\n",
              "│ people_two_data     │\n",
              "└─────────────────────┘"
            ]
          },
          "metadata": {},
          "output_type": "display_data"
        }
      ],
      "source": [
        "# show outcome\n",
        "\n",
        "import duckdb\n",
        "\n",
        "conn = duckdb.connect(f\"{generators_pipeline.pipeline_name}.duckdb\")\n",
        "\n",
        "# let's see the tables\n",
        "conn.sql(f\"SET search_path = '{generators_pipeline.dataset_name}'\")\n",
        "print('Loaded tables: ')\n",
        "display(conn.sql(\"show tables\"))\n",
        "\n"
      ]
    },
    {
      "cell_type": "code",
      "execution_count": 9,
      "metadata": {},
      "outputs": [
        {
          "name": "stdout",
          "output_type": "stream",
          "text": [
            "\n",
            "\n",
            "\n",
            " Sum of ages of people 1 data\n"
          ]
        },
        {
          "data": {
            "text/html": [
              "<div>\n",
              "<style scoped>\n",
              "    .dataframe tbody tr th:only-of-type {\n",
              "        vertical-align: middle;\n",
              "    }\n",
              "\n",
              "    .dataframe tbody tr th {\n",
              "        vertical-align: top;\n",
              "    }\n",
              "\n",
              "    .dataframe thead th {\n",
              "        text-align: right;\n",
              "    }\n",
              "</style>\n",
              "<table border=\"1\" class=\"dataframe\">\n",
              "  <thead>\n",
              "    <tr style=\"text-align: right;\">\n",
              "      <th></th>\n",
              "      <th>sum(AGE)</th>\n",
              "    </tr>\n",
              "  </thead>\n",
              "  <tbody>\n",
              "    <tr>\n",
              "      <th>0</th>\n",
              "      <td>140.0</td>\n",
              "    </tr>\n",
              "  </tbody>\n",
              "</table>\n",
              "</div>"
            ],
            "text/plain": [
              "   sum(AGE)\n",
              "0     140.0"
            ]
          },
          "metadata": {},
          "output_type": "display_data"
        }
      ],
      "source": [
        "print(\"\\n\\n\\n Sum of ages of people 1 data\")\n",
        "\n",
        "total_age = conn.sql(\"\"\"\n",
        "SELECT SUM(AGE)\n",
        "FROM people_one_data \n",
        "\"\"\").df()\n",
        "display(total_age)"
      ]
    },
    {
      "cell_type": "code",
      "execution_count": 7,
      "metadata": {},
      "outputs": [
        {
          "name": "stdout",
          "output_type": "stream",
          "text": [
            "\n",
            "\n",
            "\n",
            " people_one_data table below:\n"
          ]
        },
        {
          "data": {
            "text/html": [
              "<div>\n",
              "<style scoped>\n",
              "    .dataframe tbody tr th:only-of-type {\n",
              "        vertical-align: middle;\n",
              "    }\n",
              "\n",
              "    .dataframe tbody tr th {\n",
              "        vertical-align: top;\n",
              "    }\n",
              "\n",
              "    .dataframe thead th {\n",
              "        text-align: right;\n",
              "    }\n",
              "</style>\n",
              "<table border=\"1\" class=\"dataframe\">\n",
              "  <thead>\n",
              "    <tr style=\"text-align: right;\">\n",
              "      <th></th>\n",
              "      <th>id</th>\n",
              "      <th>name</th>\n",
              "      <th>age</th>\n",
              "      <th>city</th>\n",
              "      <th>_dlt_load_id</th>\n",
              "      <th>_dlt_id</th>\n",
              "    </tr>\n",
              "  </thead>\n",
              "  <tbody>\n",
              "    <tr>\n",
              "      <th>0</th>\n",
              "      <td>1</td>\n",
              "      <td>Person_1</td>\n",
              "      <td>26</td>\n",
              "      <td>City_A</td>\n",
              "      <td>1707356890.698148</td>\n",
              "      <td>4WYi5nGOBSBlBQ</td>\n",
              "    </tr>\n",
              "    <tr>\n",
              "      <th>1</th>\n",
              "      <td>2</td>\n",
              "      <td>Person_2</td>\n",
              "      <td>27</td>\n",
              "      <td>City_A</td>\n",
              "      <td>1707356890.698148</td>\n",
              "      <td>wH31PzBiqMJQAg</td>\n",
              "    </tr>\n",
              "    <tr>\n",
              "      <th>2</th>\n",
              "      <td>3</td>\n",
              "      <td>Person_3</td>\n",
              "      <td>28</td>\n",
              "      <td>City_A</td>\n",
              "      <td>1707356890.698148</td>\n",
              "      <td>AlynjY1dwV25xw</td>\n",
              "    </tr>\n",
              "    <tr>\n",
              "      <th>3</th>\n",
              "      <td>4</td>\n",
              "      <td>Person_4</td>\n",
              "      <td>29</td>\n",
              "      <td>City_A</td>\n",
              "      <td>1707356890.698148</td>\n",
              "      <td>f7pePmrxheP77g</td>\n",
              "    </tr>\n",
              "    <tr>\n",
              "      <th>4</th>\n",
              "      <td>5</td>\n",
              "      <td>Person_5</td>\n",
              "      <td>30</td>\n",
              "      <td>City_A</td>\n",
              "      <td>1707356890.698148</td>\n",
              "      <td>G0rzKL2R/v0DnQ</td>\n",
              "    </tr>\n",
              "  </tbody>\n",
              "</table>\n",
              "</div>"
            ],
            "text/plain": [
              "   id      name  age    city       _dlt_load_id         _dlt_id\n",
              "0   1  Person_1   26  City_A  1707356890.698148  4WYi5nGOBSBlBQ\n",
              "1   2  Person_2   27  City_A  1707356890.698148  wH31PzBiqMJQAg\n",
              "2   3  Person_3   28  City_A  1707356890.698148  AlynjY1dwV25xw\n",
              "3   4  Person_4   29  City_A  1707356890.698148  f7pePmrxheP77g\n",
              "4   5  Person_5   30  City_A  1707356890.698148  G0rzKL2R/v0DnQ"
            ]
          },
          "metadata": {},
          "output_type": "display_data"
        },
        {
          "name": "stdout",
          "output_type": "stream",
          "text": [
            "\n",
            "\n",
            "\n",
            " people_two_data table below:\n"
          ]
        },
        {
          "data": {
            "text/html": [
              "<div>\n",
              "<style scoped>\n",
              "    .dataframe tbody tr th:only-of-type {\n",
              "        vertical-align: middle;\n",
              "    }\n",
              "\n",
              "    .dataframe tbody tr th {\n",
              "        vertical-align: top;\n",
              "    }\n",
              "\n",
              "    .dataframe thead th {\n",
              "        text-align: right;\n",
              "    }\n",
              "</style>\n",
              "<table border=\"1\" class=\"dataframe\">\n",
              "  <thead>\n",
              "    <tr style=\"text-align: right;\">\n",
              "      <th></th>\n",
              "      <th>id</th>\n",
              "      <th>name</th>\n",
              "      <th>age</th>\n",
              "      <th>city</th>\n",
              "      <th>occupation</th>\n",
              "      <th>_dlt_load_id</th>\n",
              "      <th>_dlt_id</th>\n",
              "    </tr>\n",
              "  </thead>\n",
              "  <tbody>\n",
              "    <tr>\n",
              "      <th>0</th>\n",
              "      <td>3</td>\n",
              "      <td>Person_3</td>\n",
              "      <td>33</td>\n",
              "      <td>City_B</td>\n",
              "      <td>Job_3</td>\n",
              "      <td>1707356891.6223266</td>\n",
              "      <td>QTVmU4PdOCrW4g</td>\n",
              "    </tr>\n",
              "    <tr>\n",
              "      <th>1</th>\n",
              "      <td>4</td>\n",
              "      <td>Person_4</td>\n",
              "      <td>34</td>\n",
              "      <td>City_B</td>\n",
              "      <td>Job_4</td>\n",
              "      <td>1707356891.6223266</td>\n",
              "      <td>Pofy9Nh37gnJTA</td>\n",
              "    </tr>\n",
              "    <tr>\n",
              "      <th>2</th>\n",
              "      <td>5</td>\n",
              "      <td>Person_5</td>\n",
              "      <td>35</td>\n",
              "      <td>City_B</td>\n",
              "      <td>Job_5</td>\n",
              "      <td>1707356891.6223266</td>\n",
              "      <td>0bBtFMeYEx3sDg</td>\n",
              "    </tr>\n",
              "    <tr>\n",
              "      <th>3</th>\n",
              "      <td>6</td>\n",
              "      <td>Person_6</td>\n",
              "      <td>36</td>\n",
              "      <td>City_B</td>\n",
              "      <td>Job_6</td>\n",
              "      <td>1707356891.6223266</td>\n",
              "      <td>WHDHQPvZXJHRBQ</td>\n",
              "    </tr>\n",
              "    <tr>\n",
              "      <th>4</th>\n",
              "      <td>7</td>\n",
              "      <td>Person_7</td>\n",
              "      <td>37</td>\n",
              "      <td>City_B</td>\n",
              "      <td>Job_7</td>\n",
              "      <td>1707356891.6223266</td>\n",
              "      <td>YYQqwbLf2iJjkQ</td>\n",
              "    </tr>\n",
              "    <tr>\n",
              "      <th>5</th>\n",
              "      <td>8</td>\n",
              "      <td>Person_8</td>\n",
              "      <td>38</td>\n",
              "      <td>City_B</td>\n",
              "      <td>Job_8</td>\n",
              "      <td>1707356891.6223266</td>\n",
              "      <td>357/2MXcRd4Skw</td>\n",
              "    </tr>\n",
              "  </tbody>\n",
              "</table>\n",
              "</div>"
            ],
            "text/plain": [
              "   id      name  age    city occupation        _dlt_load_id         _dlt_id\n",
              "0   3  Person_3   33  City_B      Job_3  1707356891.6223266  QTVmU4PdOCrW4g\n",
              "1   4  Person_4   34  City_B      Job_4  1707356891.6223266  Pofy9Nh37gnJTA\n",
              "2   5  Person_5   35  City_B      Job_5  1707356891.6223266  0bBtFMeYEx3sDg\n",
              "3   6  Person_6   36  City_B      Job_6  1707356891.6223266  WHDHQPvZXJHRBQ\n",
              "4   7  Person_7   37  City_B      Job_7  1707356891.6223266  YYQqwbLf2iJjkQ\n",
              "5   8  Person_8   38  City_B      Job_8  1707356891.6223266  357/2MXcRd4Skw"
            ]
          },
          "metadata": {},
          "output_type": "display_data"
        }
      ],
      "source": [
        "# and the data\n",
        "\n",
        "print(\"\\n\\n\\n people_one_data table below:\")\n",
        "\n",
        "rides = conn.sql(\"SELECT * FROM people_one_data\").df()\n",
        "display(rides)\n",
        "\n",
        "print(\"\\n\\n\\n people_two_data table below:\")\n",
        "\n",
        "passengers = conn.sql(\"SELECT * FROM people_two_data\").df()\n",
        "display(passengers)\n",
        "\n",
        "# As you can see, the same data was loaded in both cases."
      ]
    },
    {
      "cell_type": "code",
      "execution_count": 10,
      "metadata": {},
      "outputs": [
        {
          "name": "stdout",
          "output_type": "stream",
          "text": [
            "Pipeline dlt_ipykernel_launcher load step completed in 0.24 seconds\n",
            "1 load package(s) were loaded to destination duckdb and into dataset people\n",
            "The duckdb destination used duckdb:///c:\\Users\\swath\\Downloads\\dlt_ipykernel_launcher.duckdb location to store data\n",
            "Load package 1707357486.818756 is LOADED and contains no failed jobs\n"
          ]
        }
      ],
      "source": [
        "info = generators_pipeline.run(people_2(),\n",
        "\t\t\t\t\t\t\t\t\t\ttable_name=\"people_one_data\",\n",
        "\t\t\t\t\t\t\t\t\t\twrite_disposition=\"append\")\n",
        "\n",
        "print(info)\n"
      ]
    },
    {
      "cell_type": "code",
      "execution_count": 11,
      "metadata": {},
      "outputs": [
        {
          "data": {
            "text/html": [
              "<div>\n",
              "<style scoped>\n",
              "    .dataframe tbody tr th:only-of-type {\n",
              "        vertical-align: middle;\n",
              "    }\n",
              "\n",
              "    .dataframe tbody tr th {\n",
              "        vertical-align: top;\n",
              "    }\n",
              "\n",
              "    .dataframe thead th {\n",
              "        text-align: right;\n",
              "    }\n",
              "</style>\n",
              "<table border=\"1\" class=\"dataframe\">\n",
              "  <thead>\n",
              "    <tr style=\"text-align: right;\">\n",
              "      <th></th>\n",
              "      <th>id</th>\n",
              "      <th>name</th>\n",
              "      <th>age</th>\n",
              "      <th>city</th>\n",
              "      <th>_dlt_load_id</th>\n",
              "      <th>_dlt_id</th>\n",
              "      <th>occupation</th>\n",
              "    </tr>\n",
              "  </thead>\n",
              "  <tbody>\n",
              "    <tr>\n",
              "      <th>0</th>\n",
              "      <td>1</td>\n",
              "      <td>Person_1</td>\n",
              "      <td>26</td>\n",
              "      <td>City_A</td>\n",
              "      <td>1707356890.698148</td>\n",
              "      <td>4WYi5nGOBSBlBQ</td>\n",
              "      <td>None</td>\n",
              "    </tr>\n",
              "    <tr>\n",
              "      <th>1</th>\n",
              "      <td>2</td>\n",
              "      <td>Person_2</td>\n",
              "      <td>27</td>\n",
              "      <td>City_A</td>\n",
              "      <td>1707356890.698148</td>\n",
              "      <td>wH31PzBiqMJQAg</td>\n",
              "      <td>None</td>\n",
              "    </tr>\n",
              "    <tr>\n",
              "      <th>2</th>\n",
              "      <td>3</td>\n",
              "      <td>Person_3</td>\n",
              "      <td>28</td>\n",
              "      <td>City_A</td>\n",
              "      <td>1707356890.698148</td>\n",
              "      <td>AlynjY1dwV25xw</td>\n",
              "      <td>None</td>\n",
              "    </tr>\n",
              "    <tr>\n",
              "      <th>3</th>\n",
              "      <td>4</td>\n",
              "      <td>Person_4</td>\n",
              "      <td>29</td>\n",
              "      <td>City_A</td>\n",
              "      <td>1707356890.698148</td>\n",
              "      <td>f7pePmrxheP77g</td>\n",
              "      <td>None</td>\n",
              "    </tr>\n",
              "    <tr>\n",
              "      <th>4</th>\n",
              "      <td>5</td>\n",
              "      <td>Person_5</td>\n",
              "      <td>30</td>\n",
              "      <td>City_A</td>\n",
              "      <td>1707356890.698148</td>\n",
              "      <td>G0rzKL2R/v0DnQ</td>\n",
              "      <td>None</td>\n",
              "    </tr>\n",
              "    <tr>\n",
              "      <th>5</th>\n",
              "      <td>3</td>\n",
              "      <td>Person_3</td>\n",
              "      <td>33</td>\n",
              "      <td>City_B</td>\n",
              "      <td>1707357486.818756</td>\n",
              "      <td>PBY7H2Alg8WlNA</td>\n",
              "      <td>Job_3</td>\n",
              "    </tr>\n",
              "    <tr>\n",
              "      <th>6</th>\n",
              "      <td>4</td>\n",
              "      <td>Person_4</td>\n",
              "      <td>34</td>\n",
              "      <td>City_B</td>\n",
              "      <td>1707357486.818756</td>\n",
              "      <td>VQ/j4RhBRBK6hg</td>\n",
              "      <td>Job_4</td>\n",
              "    </tr>\n",
              "    <tr>\n",
              "      <th>7</th>\n",
              "      <td>5</td>\n",
              "      <td>Person_5</td>\n",
              "      <td>35</td>\n",
              "      <td>City_B</td>\n",
              "      <td>1707357486.818756</td>\n",
              "      <td>Eya3eJfaz+dfwg</td>\n",
              "      <td>Job_5</td>\n",
              "    </tr>\n",
              "    <tr>\n",
              "      <th>8</th>\n",
              "      <td>6</td>\n",
              "      <td>Person_6</td>\n",
              "      <td>36</td>\n",
              "      <td>City_B</td>\n",
              "      <td>1707357486.818756</td>\n",
              "      <td>Q9YKEnc7ewv6gw</td>\n",
              "      <td>Job_6</td>\n",
              "    </tr>\n",
              "    <tr>\n",
              "      <th>9</th>\n",
              "      <td>7</td>\n",
              "      <td>Person_7</td>\n",
              "      <td>37</td>\n",
              "      <td>City_B</td>\n",
              "      <td>1707357486.818756</td>\n",
              "      <td>7LHKkedhkym9Hw</td>\n",
              "      <td>Job_7</td>\n",
              "    </tr>\n",
              "    <tr>\n",
              "      <th>10</th>\n",
              "      <td>8</td>\n",
              "      <td>Person_8</td>\n",
              "      <td>38</td>\n",
              "      <td>City_B</td>\n",
              "      <td>1707357486.818756</td>\n",
              "      <td>EZ48T4UKELObsw</td>\n",
              "      <td>Job_8</td>\n",
              "    </tr>\n",
              "  </tbody>\n",
              "</table>\n",
              "</div>"
            ],
            "text/plain": [
              "    id      name  age    city       _dlt_load_id         _dlt_id occupation\n",
              "0    1  Person_1   26  City_A  1707356890.698148  4WYi5nGOBSBlBQ       None\n",
              "1    2  Person_2   27  City_A  1707356890.698148  wH31PzBiqMJQAg       None\n",
              "2    3  Person_3   28  City_A  1707356890.698148  AlynjY1dwV25xw       None\n",
              "3    4  Person_4   29  City_A  1707356890.698148  f7pePmrxheP77g       None\n",
              "4    5  Person_5   30  City_A  1707356890.698148  G0rzKL2R/v0DnQ       None\n",
              "5    3  Person_3   33  City_B  1707357486.818756  PBY7H2Alg8WlNA      Job_3\n",
              "6    4  Person_4   34  City_B  1707357486.818756  VQ/j4RhBRBK6hg      Job_4\n",
              "7    5  Person_5   35  City_B  1707357486.818756  Eya3eJfaz+dfwg      Job_5\n",
              "8    6  Person_6   36  City_B  1707357486.818756  Q9YKEnc7ewv6gw      Job_6\n",
              "9    7  Person_7   37  City_B  1707357486.818756  7LHKkedhkym9Hw      Job_7\n",
              "10   8  Person_8   38  City_B  1707357486.818756  EZ48T4UKELObsw      Job_8"
            ]
          },
          "metadata": {},
          "output_type": "display_data"
        }
      ],
      "source": [
        "data_people = conn.sql(\"SELECT * FROM people_one_data\").df()\n",
        "display(data_people)"
      ]
    },
    {
      "cell_type": "code",
      "execution_count": 12,
      "metadata": {},
      "outputs": [
        {
          "data": {
            "text/html": [
              "<div>\n",
              "<style scoped>\n",
              "    .dataframe tbody tr th:only-of-type {\n",
              "        vertical-align: middle;\n",
              "    }\n",
              "\n",
              "    .dataframe tbody tr th {\n",
              "        vertical-align: top;\n",
              "    }\n",
              "\n",
              "    .dataframe thead th {\n",
              "        text-align: right;\n",
              "    }\n",
              "</style>\n",
              "<table border=\"1\" class=\"dataframe\">\n",
              "  <thead>\n",
              "    <tr style=\"text-align: right;\">\n",
              "      <th></th>\n",
              "      <th>sum(AGE)</th>\n",
              "    </tr>\n",
              "  </thead>\n",
              "  <tbody>\n",
              "    <tr>\n",
              "      <th>0</th>\n",
              "      <td>353.0</td>\n",
              "    </tr>\n",
              "  </tbody>\n",
              "</table>\n",
              "</div>"
            ],
            "text/plain": [
              "   sum(AGE)\n",
              "0     353.0"
            ]
          },
          "metadata": {},
          "output_type": "display_data"
        }
      ],
      "source": [
        "total_age_sum = conn.sql(\"SELECT SUM(AGE) FROM people_one_data\").df()\n",
        "display(total_age_sum)"
      ]
    },
    {
      "cell_type": "markdown",
      "metadata": {
        "id": "vtdTIm4fvQCN"
      },
      "source": []
    },
    {
      "cell_type": "markdown",
      "metadata": {
        "id": "pY4cFAWOSwN1"
      },
      "source": [
        "# 3. Merge a generator\n",
        "\n",
        "Re-use the generators from Exercise 2.\n",
        "\n",
        "A table's primary key needs to be created from the start, so load your data to a new table with primary key ID.\n",
        "\n",
        "Load your first generator first, and then load the second one with merge. Since they have overlapping IDs, some of the records from the first load should be replaced by the ones from the second load.\n",
        "\n",
        "After loading, you should have a total of 8 records, and ID 3 should have age 33.\n",
        "\n",
        "Question: **Calculate the sum of ages of all the people loaded as described above.**\n"
      ]
    },
    {
      "cell_type": "markdown",
      "metadata": {
        "id": "kKB2GTB9oVjr"
      },
      "source": [
        "# Solution: First make sure that the following modules are installed:"
      ]
    },
    {
      "cell_type": "code",
      "execution_count": 17,
      "metadata": {},
      "outputs": [
        {
          "name": "stdout",
          "output_type": "stream",
          "text": [
            "Defaulting to user installation because normal site-packages is not writeable\n",
            "Requirement already satisfied: dlt[duckdb] in c:\\users\\swath\\appdata\\roaming\\python\\python311\\site-packages (0.4.2)\n",
            "Requirement already satisfied: PyYAML>=5.4.1 in c:\\users\\swath\\appdata\\roaming\\python\\python311\\site-packages (from dlt[duckdb]) (6.0.1)\n",
            "Requirement already satisfied: SQLAlchemy>=1.4.0 in c:\\users\\swath\\appdata\\roaming\\python\\python311\\site-packages (from dlt[duckdb]) (2.0.25)\n",
            "Requirement already satisfied: astunparse>=1.6.3 in c:\\users\\swath\\appdata\\roaming\\python\\python311\\site-packages (from dlt[duckdb]) (1.6.3)\n",
            "Requirement already satisfied: click>=7.1 in c:\\users\\swath\\appdata\\roaming\\python\\python311\\site-packages (from dlt[duckdb]) (8.1.7)\n",
            "Requirement already satisfied: duckdb<0.10.0,>=0.6.1 in c:\\users\\swath\\appdata\\roaming\\python\\python311\\site-packages (from dlt[duckdb]) (0.9.2)\n",
            "Requirement already satisfied: fsspec>=2022.4.0 in c:\\users\\swath\\appdata\\roaming\\python\\python311\\site-packages (from dlt[duckdb]) (2023.10.0)\n",
            "Requirement already satisfied: gitpython>=3.1.29 in c:\\users\\swath\\appdata\\roaming\\python\\python311\\site-packages (from dlt[duckdb]) (3.1.41)\n",
            "Requirement already satisfied: giturlparse>=0.10.0 in c:\\users\\swath\\appdata\\roaming\\python\\python311\\site-packages (from dlt[duckdb]) (0.12.0)\n",
            "Requirement already satisfied: hexbytes>=0.2.2 in c:\\users\\swath\\appdata\\roaming\\python\\python311\\site-packages (from dlt[duckdb]) (1.0.0)\n",
            "Requirement already satisfied: humanize>=4.4.0 in c:\\users\\swath\\appdata\\roaming\\python\\python311\\site-packages (from dlt[duckdb]) (4.9.0)\n",
            "Requirement already satisfied: jsonpath-ng>=1.5.3 in c:\\users\\swath\\appdata\\roaming\\python\\python311\\site-packages (from dlt[duckdb]) (1.6.1)\n",
            "Requirement already satisfied: makefun>=1.15.0 in c:\\users\\swath\\appdata\\roaming\\python\\python311\\site-packages (from dlt[duckdb]) (1.15.2)\n",
            "Requirement already satisfied: orjson>=3.6.7 in c:\\users\\swath\\appdata\\roaming\\python\\python311\\site-packages (from dlt[duckdb]) (3.9.13)\n",
            "Requirement already satisfied: packaging>=21.1 in c:\\users\\swath\\appdata\\roaming\\python\\python311\\site-packages (from dlt[duckdb]) (23.2)\n",
            "Requirement already satisfied: pathvalidate>=2.5.2 in c:\\users\\swath\\appdata\\roaming\\python\\python311\\site-packages (from dlt[duckdb]) (3.2.0)\n",
            "Requirement already satisfied: pendulum>=2.1.2 in c:\\users\\swath\\appdata\\roaming\\python\\python311\\site-packages (from dlt[duckdb]) (3.0.0)\n",
            "Requirement already satisfied: pytz>=2022.6 in c:\\users\\swath\\appdata\\roaming\\python\\python311\\site-packages (from dlt[duckdb]) (2023.3.post1)\n",
            "Requirement already satisfied: requests>=2.26.0 in c:\\users\\swath\\appdata\\roaming\\python\\python311\\site-packages (from dlt[duckdb]) (2.31.0)\n",
            "Requirement already satisfied: requirements-parser>=0.5.0 in c:\\users\\swath\\appdata\\roaming\\python\\python311\\site-packages (from dlt[duckdb]) (0.5.0)\n",
            "Requirement already satisfied: semver>=2.13.0 in c:\\users\\swath\\appdata\\roaming\\python\\python311\\site-packages (from dlt[duckdb]) (3.0.2)\n",
            "Requirement already satisfied: setuptools>=65.6.0 in c:\\users\\swath\\appdata\\roaming\\python\\python311\\site-packages (from dlt[duckdb]) (69.0.3)\n",
            "Requirement already satisfied: simplejson>=3.17.5 in c:\\users\\swath\\appdata\\roaming\\python\\python311\\site-packages (from dlt[duckdb]) (3.19.2)\n",
            "Requirement already satisfied: tenacity>=8.0.2 in c:\\users\\swath\\appdata\\roaming\\python\\python311\\site-packages (from dlt[duckdb]) (8.2.3)\n",
            "Requirement already satisfied: tomlkit>=0.11.3 in c:\\users\\swath\\appdata\\roaming\\python\\python311\\site-packages (from dlt[duckdb]) (0.12.3)\n",
            "Requirement already satisfied: typing-extensions>=4.0.0 in c:\\users\\swath\\appdata\\roaming\\python\\python311\\site-packages (from dlt[duckdb]) (4.8.0)\n",
            "Requirement already satisfied: tzdata>=2022.1 in c:\\users\\swath\\appdata\\roaming\\python\\python311\\site-packages (from dlt[duckdb]) (2023.3)\n",
            "Requirement already satisfied: win-precise-time>=1.4.2 in c:\\users\\swath\\appdata\\roaming\\python\\python311\\site-packages (from dlt[duckdb]) (1.4.2)\n",
            "Requirement already satisfied: wheel<1.0,>=0.23.0 in c:\\users\\swath\\appdata\\roaming\\python\\python311\\site-packages (from astunparse>=1.6.3->dlt[duckdb]) (0.42.0)\n",
            "Requirement already satisfied: six<2.0,>=1.6.1 in c:\\users\\swath\\appdata\\roaming\\python\\python311\\site-packages (from astunparse>=1.6.3->dlt[duckdb]) (1.16.0)\n",
            "Requirement already satisfied: colorama in c:\\users\\swath\\appdata\\roaming\\python\\python311\\site-packages (from click>=7.1->dlt[duckdb]) (0.4.6)\n",
            "Requirement already satisfied: gitdb<5,>=4.0.1 in c:\\users\\swath\\appdata\\roaming\\python\\python311\\site-packages (from gitpython>=3.1.29->dlt[duckdb]) (4.0.11)\n",
            "Requirement already satisfied: ply in c:\\users\\swath\\appdata\\roaming\\python\\python311\\site-packages (from jsonpath-ng>=1.5.3->dlt[duckdb]) (3.11)\n",
            "Requirement already satisfied: python-dateutil>=2.6 in c:\\users\\swath\\appdata\\roaming\\python\\python311\\site-packages (from pendulum>=2.1.2->dlt[duckdb]) (2.8.2)\n",
            "Requirement already satisfied: time-machine>=2.6.0 in c:\\users\\swath\\appdata\\roaming\\python\\python311\\site-packages (from pendulum>=2.1.2->dlt[duckdb]) (2.13.0)\n",
            "Requirement already satisfied: charset-normalizer<4,>=2 in c:\\users\\swath\\appdata\\roaming\\python\\python311\\site-packages (from requests>=2.26.0->dlt[duckdb]) (3.3.2)\n",
            "Requirement already satisfied: idna<4,>=2.5 in c:\\users\\swath\\appdata\\roaming\\python\\python311\\site-packages (from requests>=2.26.0->dlt[duckdb]) (3.6)\n",
            "Requirement already satisfied: urllib3<3,>=1.21.1 in c:\\users\\swath\\appdata\\roaming\\python\\python311\\site-packages (from requests>=2.26.0->dlt[duckdb]) (2.1.0)\n",
            "Requirement already satisfied: certifi>=2017.4.17 in c:\\users\\swath\\appdata\\roaming\\python\\python311\\site-packages (from requests>=2.26.0->dlt[duckdb]) (2023.11.17)\n",
            "Requirement already satisfied: types-setuptools>=57.0.0 in c:\\users\\swath\\appdata\\roaming\\python\\python311\\site-packages (from requirements-parser>=0.5.0->dlt[duckdb]) (69.0.0.20240125)\n",
            "Requirement already satisfied: greenlet!=0.4.17 in c:\\users\\swath\\appdata\\roaming\\python\\python311\\site-packages (from SQLAlchemy>=1.4.0->dlt[duckdb]) (3.0.3)\n",
            "Requirement already satisfied: smmap<6,>=3.0.1 in c:\\users\\swath\\appdata\\roaming\\python\\python311\\site-packages (from gitdb<5,>=4.0.1->gitpython>=3.1.29->dlt[duckdb]) (5.0.1)\n",
            "Note: you may need to restart the kernel to use updated packages.\n"
          ]
        },
        {
          "name": "stderr",
          "output_type": "stream",
          "text": [
            "\n",
            "[notice] A new release of pip is available: 23.3.1 -> 24.0\n",
            "[notice] To update, run: python.exe -m pip install --upgrade pip\n"
          ]
        }
      ],
      "source": [
        "pip install dlt[duckdb]"
      ]
    },
    {
      "cell_type": "code",
      "execution_count": 26,
      "metadata": {
        "id": "a2-PRBAkGC2K"
      },
      "outputs": [],
      "source": [
        "# to do: homework :)\n",
        "\n",
        "#generators_pipeline = dlt.pipeline(destination='duckdb', dataset_name='people')\n",
        "\n",
        "\n",
        "# we can load any generator to a table at the pipeline destnation as follows:\n",
        "info = generators_pipeline.run(people_1(),\n",
        "\t\t\t\t\t\t\t\t\t\ttable_name=\"people_one_data_MERGE\",\n",
        "\t\t\t\t\t\t\t\t\t\twrite_disposition=\"replace\")\n",
        "\n",
        "\n"
      ]
    },
    {
      "cell_type": "code",
      "execution_count": 27,
      "metadata": {},
      "outputs": [
        {
          "name": "stdout",
          "output_type": "stream",
          "text": [
            "Pipeline dlt_ipykernel_launcher load step completed in 0.23 seconds\n",
            "1 load package(s) were loaded to destination duckdb and into dataset people\n",
            "The duckdb destination used duckdb:///c:\\Users\\swath\\Downloads\\dlt_ipykernel_launcher.duckdb location to store data\n",
            "Load package 1707359036.9146364 is LOADED and contains no failed jobs\n"
          ]
        }
      ],
      "source": [
        "print(info)"
      ]
    },
    {
      "cell_type": "code",
      "execution_count": 28,
      "metadata": {},
      "outputs": [
        {
          "name": "stdout",
          "output_type": "stream",
          "text": [
            "Loaded tables: \n"
          ]
        },
        {
          "data": {
            "text/plain": [
              "┌───────────────────────┐\n",
              "│         name          │\n",
              "│        varchar        │\n",
              "├───────────────────────┤\n",
              "│ _dlt_loads            │\n",
              "│ _dlt_pipeline_state   │\n",
              "│ _dlt_version          │\n",
              "│ people_one_data       │\n",
              "│ people_one_data_merge │\n",
              "│ people_two_data       │\n",
              "└───────────────────────┘"
            ]
          },
          "metadata": {},
          "output_type": "display_data"
        }
      ],
      "source": [
        "\n",
        "print('Loaded tables: ')\n",
        "display(conn.sql(\"show tables\"))\n"
      ]
    },
    {
      "cell_type": "code",
      "execution_count": 29,
      "metadata": {},
      "outputs": [
        {
          "name": "stdout",
          "output_type": "stream",
          "text": [
            "Loaded tables: \n"
          ]
        },
        {
          "data": {
            "text/plain": [
              "┌───────────────────────┐\n",
              "│         name          │\n",
              "│        varchar        │\n",
              "├───────────────────────┤\n",
              "│ _dlt_loads            │\n",
              "│ _dlt_pipeline_state   │\n",
              "│ _dlt_version          │\n",
              "│ people_one_data       │\n",
              "│ people_one_data_merge │\n",
              "│ people_two_data       │\n",
              "└───────────────────────┘"
            ]
          },
          "metadata": {},
          "output_type": "display_data"
        },
        {
          "data": {
            "text/html": [
              "<div>\n",
              "<style scoped>\n",
              "    .dataframe tbody tr th:only-of-type {\n",
              "        vertical-align: middle;\n",
              "    }\n",
              "\n",
              "    .dataframe tbody tr th {\n",
              "        vertical-align: top;\n",
              "    }\n",
              "\n",
              "    .dataframe thead th {\n",
              "        text-align: right;\n",
              "    }\n",
              "</style>\n",
              "<table border=\"1\" class=\"dataframe\">\n",
              "  <thead>\n",
              "    <tr style=\"text-align: right;\">\n",
              "      <th></th>\n",
              "      <th>id</th>\n",
              "      <th>name</th>\n",
              "      <th>age</th>\n",
              "      <th>city</th>\n",
              "      <th>_dlt_load_id</th>\n",
              "      <th>_dlt_id</th>\n",
              "      <th>occupation</th>\n",
              "    </tr>\n",
              "  </thead>\n",
              "  <tbody>\n",
              "    <tr>\n",
              "      <th>0</th>\n",
              "      <td>1</td>\n",
              "      <td>Person_1</td>\n",
              "      <td>26</td>\n",
              "      <td>City_A</td>\n",
              "      <td>1707359036.9146364</td>\n",
              "      <td>xtzr/7WHI04KXA</td>\n",
              "      <td>None</td>\n",
              "    </tr>\n",
              "    <tr>\n",
              "      <th>1</th>\n",
              "      <td>2</td>\n",
              "      <td>Person_2</td>\n",
              "      <td>27</td>\n",
              "      <td>City_A</td>\n",
              "      <td>1707359036.9146364</td>\n",
              "      <td>9mJJBdRjTRqizA</td>\n",
              "      <td>None</td>\n",
              "    </tr>\n",
              "    <tr>\n",
              "      <th>2</th>\n",
              "      <td>3</td>\n",
              "      <td>Person_3</td>\n",
              "      <td>28</td>\n",
              "      <td>City_A</td>\n",
              "      <td>1707359036.9146364</td>\n",
              "      <td>vLEebgNOLdt7xA</td>\n",
              "      <td>None</td>\n",
              "    </tr>\n",
              "    <tr>\n",
              "      <th>3</th>\n",
              "      <td>4</td>\n",
              "      <td>Person_4</td>\n",
              "      <td>29</td>\n",
              "      <td>City_A</td>\n",
              "      <td>1707359036.9146364</td>\n",
              "      <td>Dou4SV5ezcU29g</td>\n",
              "      <td>None</td>\n",
              "    </tr>\n",
              "    <tr>\n",
              "      <th>4</th>\n",
              "      <td>5</td>\n",
              "      <td>Person_5</td>\n",
              "      <td>30</td>\n",
              "      <td>City_A</td>\n",
              "      <td>1707359036.9146364</td>\n",
              "      <td>D2etAL/AOoCIaA</td>\n",
              "      <td>None</td>\n",
              "    </tr>\n",
              "  </tbody>\n",
              "</table>\n",
              "</div>"
            ],
            "text/plain": [
              "   id      name  age    city        _dlt_load_id         _dlt_id occupation\n",
              "0   1  Person_1   26  City_A  1707359036.9146364  xtzr/7WHI04KXA       None\n",
              "1   2  Person_2   27  City_A  1707359036.9146364  9mJJBdRjTRqizA       None\n",
              "2   3  Person_3   28  City_A  1707359036.9146364  vLEebgNOLdt7xA       None\n",
              "3   4  Person_4   29  City_A  1707359036.9146364  Dou4SV5ezcU29g       None\n",
              "4   5  Person_5   30  City_A  1707359036.9146364  D2etAL/AOoCIaA       None"
            ]
          },
          "metadata": {},
          "output_type": "display_data"
        }
      ],
      "source": [
        "print('Loaded tables: ')\n",
        "display(conn.sql(\"show tables\"))\n",
        "\n",
        "check = conn.sql(\"SELECT * FROM people_one_data_MERGE\").df()\n",
        "display(check)"
      ]
    },
    {
      "cell_type": "code",
      "execution_count": 30,
      "metadata": {},
      "outputs": [
        {
          "name": "stdout",
          "output_type": "stream",
          "text": [
            "Pipeline dlt_ipykernel_launcher load step completed in 0.39 seconds\n",
            "1 load package(s) were loaded to destination duckdb and into dataset people\n",
            "The duckdb destination used duckdb:///c:\\Users\\swath\\Downloads\\dlt_ipykernel_launcher.duckdb location to store data\n",
            "Load package 1707359239.5119662 is LOADED and contains no failed jobs\n"
          ]
        }
      ],
      "source": [
        "info = generators_pipeline.run(people_2(),\n",
        "\t\t\t\t\t\t\t\t\t\ttable_name=\"people_one_data_MERGE\",\n",
        "\t\t\t\t\t\t\t\t\t\twrite_disposition=\"merge\", primary_key=\"id\")\n",
        "\n",
        "print(info)"
      ]
    },
    {
      "cell_type": "code",
      "execution_count": 31,
      "metadata": {},
      "outputs": [
        {
          "name": "stdout",
          "output_type": "stream",
          "text": [
            "Loaded tables: \n"
          ]
        },
        {
          "data": {
            "text/plain": [
              "┌───────────────────────┐\n",
              "│         name          │\n",
              "│        varchar        │\n",
              "├───────────────────────┤\n",
              "│ _dlt_loads            │\n",
              "│ _dlt_pipeline_state   │\n",
              "│ _dlt_version          │\n",
              "│ people_one_data       │\n",
              "│ people_one_data_merge │\n",
              "│ people_two_data       │\n",
              "└───────────────────────┘"
            ]
          },
          "metadata": {},
          "output_type": "display_data"
        },
        {
          "data": {
            "text/html": [
              "<div>\n",
              "<style scoped>\n",
              "    .dataframe tbody tr th:only-of-type {\n",
              "        vertical-align: middle;\n",
              "    }\n",
              "\n",
              "    .dataframe tbody tr th {\n",
              "        vertical-align: top;\n",
              "    }\n",
              "\n",
              "    .dataframe thead th {\n",
              "        text-align: right;\n",
              "    }\n",
              "</style>\n",
              "<table border=\"1\" class=\"dataframe\">\n",
              "  <thead>\n",
              "    <tr style=\"text-align: right;\">\n",
              "      <th></th>\n",
              "      <th>id</th>\n",
              "      <th>name</th>\n",
              "      <th>age</th>\n",
              "      <th>city</th>\n",
              "      <th>_dlt_load_id</th>\n",
              "      <th>_dlt_id</th>\n",
              "      <th>occupation</th>\n",
              "    </tr>\n",
              "  </thead>\n",
              "  <tbody>\n",
              "    <tr>\n",
              "      <th>0</th>\n",
              "      <td>1</td>\n",
              "      <td>Person_1</td>\n",
              "      <td>26</td>\n",
              "      <td>City_A</td>\n",
              "      <td>1707359036.9146364</td>\n",
              "      <td>xtzr/7WHI04KXA</td>\n",
              "      <td>None</td>\n",
              "    </tr>\n",
              "    <tr>\n",
              "      <th>1</th>\n",
              "      <td>2</td>\n",
              "      <td>Person_2</td>\n",
              "      <td>27</td>\n",
              "      <td>City_A</td>\n",
              "      <td>1707359036.9146364</td>\n",
              "      <td>9mJJBdRjTRqizA</td>\n",
              "      <td>None</td>\n",
              "    </tr>\n",
              "    <tr>\n",
              "      <th>2</th>\n",
              "      <td>4</td>\n",
              "      <td>Person_4</td>\n",
              "      <td>34</td>\n",
              "      <td>City_B</td>\n",
              "      <td>1707359239.5119662</td>\n",
              "      <td>FNvQymTNSi5KeQ</td>\n",
              "      <td>Job_4</td>\n",
              "    </tr>\n",
              "    <tr>\n",
              "      <th>3</th>\n",
              "      <td>5</td>\n",
              "      <td>Person_5</td>\n",
              "      <td>35</td>\n",
              "      <td>City_B</td>\n",
              "      <td>1707359239.5119662</td>\n",
              "      <td>4ub8sHBLsoy5EA</td>\n",
              "      <td>Job_5</td>\n",
              "    </tr>\n",
              "    <tr>\n",
              "      <th>4</th>\n",
              "      <td>8</td>\n",
              "      <td>Person_8</td>\n",
              "      <td>38</td>\n",
              "      <td>City_B</td>\n",
              "      <td>1707359239.5119662</td>\n",
              "      <td>ezXjsIPA8NmsFg</td>\n",
              "      <td>Job_8</td>\n",
              "    </tr>\n",
              "    <tr>\n",
              "      <th>5</th>\n",
              "      <td>3</td>\n",
              "      <td>Person_3</td>\n",
              "      <td>33</td>\n",
              "      <td>City_B</td>\n",
              "      <td>1707359239.5119662</td>\n",
              "      <td>FOR9GfJWERZoRw</td>\n",
              "      <td>Job_3</td>\n",
              "    </tr>\n",
              "    <tr>\n",
              "      <th>6</th>\n",
              "      <td>6</td>\n",
              "      <td>Person_6</td>\n",
              "      <td>36</td>\n",
              "      <td>City_B</td>\n",
              "      <td>1707359239.5119662</td>\n",
              "      <td>1W66tMYbjx6NHQ</td>\n",
              "      <td>Job_6</td>\n",
              "    </tr>\n",
              "    <tr>\n",
              "      <th>7</th>\n",
              "      <td>7</td>\n",
              "      <td>Person_7</td>\n",
              "      <td>37</td>\n",
              "      <td>City_B</td>\n",
              "      <td>1707359239.5119662</td>\n",
              "      <td>/ea/oB/ucJ0PfQ</td>\n",
              "      <td>Job_7</td>\n",
              "    </tr>\n",
              "  </tbody>\n",
              "</table>\n",
              "</div>"
            ],
            "text/plain": [
              "   id      name  age    city        _dlt_load_id         _dlt_id occupation\n",
              "0   1  Person_1   26  City_A  1707359036.9146364  xtzr/7WHI04KXA       None\n",
              "1   2  Person_2   27  City_A  1707359036.9146364  9mJJBdRjTRqizA       None\n",
              "2   4  Person_4   34  City_B  1707359239.5119662  FNvQymTNSi5KeQ      Job_4\n",
              "3   5  Person_5   35  City_B  1707359239.5119662  4ub8sHBLsoy5EA      Job_5\n",
              "4   8  Person_8   38  City_B  1707359239.5119662  ezXjsIPA8NmsFg      Job_8\n",
              "5   3  Person_3   33  City_B  1707359239.5119662  FOR9GfJWERZoRw      Job_3\n",
              "6   6  Person_6   36  City_B  1707359239.5119662  1W66tMYbjx6NHQ      Job_6\n",
              "7   7  Person_7   37  City_B  1707359239.5119662  /ea/oB/ucJ0PfQ      Job_7"
            ]
          },
          "metadata": {},
          "output_type": "display_data"
        }
      ],
      "source": [
        "\n",
        "print('Loaded tables: ')\n",
        "display(conn.sql(\"show tables\"))\n",
        "\n",
        "check = conn.sql(\"SELECT * FROM people_one_data_MERGE\").df()\n",
        "display(check)"
      ]
    },
    {
      "cell_type": "code",
      "execution_count": 32,
      "metadata": {},
      "outputs": [
        {
          "data": {
            "text/html": [
              "<div>\n",
              "<style scoped>\n",
              "    .dataframe tbody tr th:only-of-type {\n",
              "        vertical-align: middle;\n",
              "    }\n",
              "\n",
              "    .dataframe tbody tr th {\n",
              "        vertical-align: top;\n",
              "    }\n",
              "\n",
              "    .dataframe thead th {\n",
              "        text-align: right;\n",
              "    }\n",
              "</style>\n",
              "<table border=\"1\" class=\"dataframe\">\n",
              "  <thead>\n",
              "    <tr style=\"text-align: right;\">\n",
              "      <th></th>\n",
              "      <th>sum(AGE)</th>\n",
              "    </tr>\n",
              "  </thead>\n",
              "  <tbody>\n",
              "    <tr>\n",
              "      <th>0</th>\n",
              "      <td>266.0</td>\n",
              "    </tr>\n",
              "  </tbody>\n",
              "</table>\n",
              "</div>"
            ],
            "text/plain": [
              "   sum(AGE)\n",
              "0     266.0"
            ]
          },
          "metadata": {},
          "output_type": "display_data"
        }
      ],
      "source": [
        "total_age_sum = conn.sql(\"SELECT SUM(AGE) FROM people_one_data_MERGE\").df()\n",
        "display(total_age_sum)"
      ]
    },
    {
      "cell_type": "markdown",
      "metadata": {
        "id": "PoTJu4kbGG0z"
      },
      "source": [
        "Questions? difficulties? We are here to help.\n",
        "- DTC data engineering course channel: https://datatalks-club.slack.com/archives/C01FABYF2RG\n",
        "- dlt's DTC cohort channel: https://dlthub-community.slack.com/archives/C06GAEX2VNX"
      ]
    }
  ],
  "metadata": {
    "colab": {
      "provenance": []
    },
    "kernelspec": {
      "display_name": "Python 3",
      "name": "python3"
    },
    "language_info": {
      "codemirror_mode": {
        "name": "ipython",
        "version": 3
      },
      "file_extension": ".py",
      "mimetype": "text/x-python",
      "name": "python",
      "nbconvert_exporter": "python",
      "pygments_lexer": "ipython3",
      "version": "3.11.6"
    }
  },
  "nbformat": 4,
  "nbformat_minor": 0
}
